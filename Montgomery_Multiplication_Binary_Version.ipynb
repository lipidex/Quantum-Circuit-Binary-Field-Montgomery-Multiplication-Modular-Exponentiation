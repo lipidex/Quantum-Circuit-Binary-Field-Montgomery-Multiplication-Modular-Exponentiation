{
 "cells": [
  {
   "cell_type": "code",
   "execution_count": 1,
   "id": "a3450eef",
   "metadata": {},
   "outputs": [],
   "source": [
    "n_bits = 3 # Number of qubit used by each variable"
   ]
  },
  {
   "cell_type": "code",
   "execution_count": 2,
   "id": "3ddf1992",
   "metadata": {},
   "outputs": [],
   "source": [
    "# Values\n",
    "N_bin = '101'\n",
    "A_bin = '010'\n",
    "B_bin = '011'"
   ]
  },
  {
   "cell_type": "code",
   "execution_count": 3,
   "id": "6b9b64cb",
   "metadata": {},
   "outputs": [],
   "source": [
    "# Used to set Qubit\n",
    "def SetBit(n: int, num: int, input_wires: list) -> None:\n",
    "    bits = bin(num)[2:].zfill(n)\n",
    "    \n",
    "    for bit, i in zip(reversed(bits), range(len(input_wires))):\n",
    "        if bit == \"1\":\n",
    "            input_wires[i][\"q\"] = not input_wires[i][\"q\"]\n",
    "    \n",
    "    return"
   ]
  },
  {
   "cell_type": "code",
   "execution_count": 4,
   "id": "1c9c2eeb",
   "metadata": {},
   "outputs": [],
   "source": [
    "def OperandMul(n: int, a: bool, B: list, C: list) -> None:\n",
    "    for i in range(0, n):\n",
    "        C[i][\"q\"] = (a[\"q\"] and B[i][\"q\"]) ^ C[i][\"q\"]\n",
    "    \n",
    "    return"
   ]
  },
  {
   "cell_type": "code",
   "execution_count": 5,
   "id": "29bd8a49",
   "metadata": {},
   "outputs": [],
   "source": [
    "def ModulusMul(n: int, N: list, C: list) -> None:\n",
    "    for i in reversed(range(0, n)):\n",
    "        C[i][\"q\"] = (C[0][\"q\"] and N[i][\"q\"]) ^ C[i][\"q\"]\n",
    "        \n",
    "    return"
   ]
  },
  {
   "cell_type": "code",
   "execution_count": 6,
   "id": "defb3b44",
   "metadata": {},
   "outputs": [],
   "source": [
    "def ModularExponentiations(N_num: int, n: int, A: list, B: list, C: list, N=[]) -> None:\n",
    "    for i in range(0, n+3):\n",
    "        # ModulusMul(N, C)\n",
    "        ModulusMul(n, N[:n], C[:n])\n",
    "        \n",
    "        # SwapRotate(C)\n",
    "        C.append(C.pop(0))\n",
    "        \n",
    "        # OperandMul(A[i], B, C)\n",
    "        OperandMul(n+3, A[i], B, C)\n",
    "    \n",
    "    return"
   ]
  },
  {
   "cell_type": "code",
   "execution_count": 7,
   "id": "b6083576",
   "metadata": {},
   "outputs": [],
   "source": [
    "N_bits = n_bits\n",
    "A_bits = n_bits+3\n",
    "B_bits = n_bits+3\n",
    "C_bits = n_bits+3"
   ]
  },
  {
   "cell_type": "code",
   "execution_count": 8,
   "id": "dea69869",
   "metadata": {},
   "outputs": [],
   "source": [
    "N = [{'q': False} for _ in range(N_bits)]\n",
    "A = [{'q': False} for _ in range(A_bits)]\n",
    "B = [{'q': False} for _ in range(B_bits)]\n",
    "C = [{'q': False} for _ in range(C_bits)]"
   ]
  },
  {
   "cell_type": "code",
   "execution_count": 9,
   "id": "1d48c813",
   "metadata": {},
   "outputs": [],
   "source": [
    "N_num = int(N_bin, 2)\n",
    "A_num = int(A_bin, 2)\n",
    "B_num = int(B_bin, 2)"
   ]
  },
  {
   "cell_type": "code",
   "execution_count": 10,
   "id": "60c0e497",
   "metadata": {},
   "outputs": [],
   "source": [
    "SetBit(len(N), N_num, N)\n",
    "SetBit(len(A), A_num, A)\n",
    "SetBit(len(B), B_num, B)"
   ]
  },
  {
   "cell_type": "code",
   "execution_count": 11,
   "id": "fa065321",
   "metadata": {},
   "outputs": [],
   "source": [
    "ModularExponentiations(N_num, n_bits, A, B, C, N)"
   ]
  },
  {
   "cell_type": "code",
   "execution_count": 12,
   "id": "a8a6948f",
   "metadata": {},
   "outputs": [
    {
     "name": "stdout",
     "output_type": "stream",
     "text": [
      "b000011\n"
     ]
    }
   ],
   "source": [
    "print(\"b\"+\"\".join([\"1\" if c[\"q\"] else \"0\" for c in C])[::-1])"
   ]
  }
 ],
 "metadata": {
  "kernelspec": {
   "display_name": "Python 3 (ipykernel)",
   "language": "python",
   "name": "python3"
  },
  "language_info": {
   "codemirror_mode": {
    "name": "ipython",
    "version": 3
   },
   "file_extension": ".py",
   "mimetype": "text/x-python",
   "name": "python",
   "nbconvert_exporter": "python",
   "pygments_lexer": "ipython3",
   "version": "3.9.5"
  }
 },
 "nbformat": 4,
 "nbformat_minor": 5
}
